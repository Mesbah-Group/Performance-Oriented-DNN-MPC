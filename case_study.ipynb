{
 "cells": [
  {
   "cell_type": "code",
   "execution_count": 1,
   "metadata": {},
   "outputs": [],
   "source": [
    "import numpy as np\n",
    "from scipy import integrate\n",
    "import matplotlib.pyplot as plt \n",
    "%matplotlib inline \n",
    "import warnings \n",
    "warnings.filterwarnings('ignore')"
   ]
  },
  {
   "cell_type": "code",
   "execution_count": 3,
   "metadata": {},
   "outputs": [],
   "source": [
    "class CaseStudy:\n",
    "    def __init__(self):\n",
    "        return\n",
    "    \n",
    "    def plant_dynamics(xk, D, Sf, Ts):\n",
    "        def fer_plant(t,z,D): \n",
    "            dzdt = np.zeros((1,len(z)))\n",
    "            #Parameter list \n",
    "            #yxs=0.4; alpha=2.4; beta=0.5; mu_max=0.52; km=1.2; sf=10; pm=10; ki=22\n",
    "            #yxs=0.2; alpha=2.6; beta=0.7; mu_max=0.6; km=1.2; sf=Sf; pm=15; ki=26\n",
    "            \n",
    "            yxs=0.2; alpha=2.6; beta=0.7; mu_max=0.6; km=1.2; sf=Sf; pm=6.5; ki=20\n",
    "\n",
    "            \n",
    "            mu_m = mu_max*(1-z[2]/pm)\n",
    "            mu = mu_m*z[1]/(km + z[1]*(1+z[1]/ki))\n",
    "            dzdt[0,0] = -D*z[0] + mu*z[0]\n",
    "            dzdt[0,1] = D*(sf - z[1]) - (1/yxs)*mu*z[0]\n",
    "            dzdt[0,2] = -D*z[2] + (alpha*mu + beta)*z[0]\n",
    "            return [(np.transpose(dzdt))]  \n",
    "        tspan=[0,Ts]\n",
    "        ode_sol = integrate.solve_ivp( lambda t,z: fer_plant(t,z,D) , tspan, xk, method='LSODA') \n",
    "        xkplusone = ode_sol.y[:,-1]\n",
    "        return xkplusone\n",
    "    \n",
    "    def model_dynamics(xk, D, Sf, Ts):\n",
    "        \n",
    "        def fer_model(t,z,D):    \n",
    "            dzdt = np.zeros((1,len(z)))\n",
    "            #Parameter list \n",
    "            #yxs=0.3; alpha=2.45; beta=0.65; mu_max=0.55; km=1.1; sf=10; pm=17.5; ki=24\n",
    "            yxs=0.3; alpha=2.65; beta=0.75; mu_max=0.62; km=1.1; sf=Sf; pm=7.5; ki=22\n",
    "            mu_m = mu_max*(1-z[2]/pm)\n",
    "            mu = mu_m*z[1]/(km + z[1]*(1+z[1]/ki))\n",
    "            dzdt[0,0] = -D*z[0] + mu*z[0]\n",
    "            dzdt[0,1] = D*(sf - z[1]) - (1/yxs)*mu*z[0]\n",
    "            dzdt[0,2] = -D*z[2] + (alpha*mu + beta)*z[0]\n",
    "            return [(np.transpose(dzdt))] \n",
    "    \n",
    "        tspan=[0,Ts]\n",
    "        ode_sol = integrate.solve_ivp( lambda t,z: fer_model(t,z,D) , tspan, xk, method='LSODA') \n",
    "        xkplusone = ode_sol.y[:,-1]\n",
    "        return xkplusone  \n",
    "    "
   ]
  },
  {
   "cell_type": "code",
   "execution_count": null,
   "metadata": {},
   "outputs": [],
   "source": []
  }
 ],
 "metadata": {
  "kernelspec": {
   "display_name": "Python 3",
   "language": "python",
   "name": "python3"
  },
  "language_info": {
   "codemirror_mode": {
    "name": "ipython",
    "version": 3
   },
   "file_extension": ".py",
   "mimetype": "text/x-python",
   "name": "python",
   "nbconvert_exporter": "python",
   "pygments_lexer": "ipython3",
   "version": "3.7.9"
  }
 },
 "nbformat": 4,
 "nbformat_minor": 4
}
