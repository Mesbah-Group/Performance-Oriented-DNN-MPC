{
 "cells": [
  {
   "cell_type": "markdown",
   "metadata": {},
   "source": [
    "Neural Model Identification: \\\n",
    "Trains a neural network based on data from the physics model to use as the predictive model\n",
    "Note: You need to install the matlab engine to be able to run matlab code from pythone"
   ]
  },
  {
   "cell_type": "code",
   "execution_count": 27,
   "metadata": {},
   "outputs": [],
   "source": [
    "import matplotlib.pyplot as plt"
   ]
  },
  {
   "cell_type": "code",
   "execution_count": 28,
   "metadata": {},
   "outputs": [],
   "source": [
    "import os\n",
    "import pickle\n",
    "import math\n",
    "#from utils import kits\n",
    "import time\n",
    "import random \n",
    "import numpy as np\n",
    "import tensorflow as tf\n",
    "import scipy.io\n",
    "from matplotlib import pyplot as plt\n",
    "from sklearn.model_selection import train_test_split\n",
    "from tensorflow.keras.backend import sigmoid\n",
    "from tensorflow.keras.utils import get_custom_objects\n",
    "from tensorflow.keras import optimizers\n",
    "from tensorflow.keras.layers import Activation\n",
    "from tensorflow.keras import backend as K\n",
    "from tensorflow.python.framework import ops\n",
    "#from skopt.utils import use_named_args\n",
    "#from skopt import gp_minimize\n",
    "#from skopt.space import Real, Categorical, Integer\n",
    "from sklearn import preprocessing"
   ]
  },
  {
   "cell_type": "code",
   "execution_count": 29,
   "metadata": {},
   "outputs": [],
   "source": [
    "import matlab.engine\n",
    "eng = matlab.engine.start_matlab()"
   ]
  },
  {
   "cell_type": "code",
   "execution_count": 30,
   "metadata": {},
   "outputs": [],
   "source": [
    "import scipy.io\n",
    "model_data = scipy.io.loadmat('Data.mat')"
   ]
  },
  {
   "cell_type": "code",
   "execution_count": 31,
   "metadata": {},
   "outputs": [],
   "source": [
    "Zin=model_data.get(\"Zin\")\n",
    "Zout=model_data.get(\"Zout\")"
   ]
  },
  {
   "cell_type": "markdown",
   "metadata": {},
   "source": [
    "## Define Functions"
   ]
  },
  {
   "cell_type": "code",
   "execution_count": 32,
   "metadata": {},
   "outputs": [],
   "source": [
    "def swish(x, beta=1):\n",
    "    return x * sigmoid(beta * x)\n",
    "\n",
    "def get_model_layers(nodes, layers, activation, learning_rate, training=None):\n",
    "    if activation == 'swish':\n",
    "        activation = swish\n",
    "    else:\n",
    "        activation = activation\n",
    "\n",
    "    inputs = tf.keras.layers.Input(shape=(in_dim,))\n",
    "  #  xadd = (np.array(inputs[:, :out_dim])).reshape(None,1)\n",
    "   # print(inputs[:, :out_dim].shape)\n",
    "    #print(xadd.shape)\n",
    "    x = tf.keras.layers.Dense(units=nodes, activation=activation)(inputs)\n",
    "    for i in range(layers - 1):  # at least one layer which has the parameter input as input\n",
    "        x = tf.keras.layers.Dense(units=nodes, activation=activation)(x)\n",
    "\n",
    "    #x = tf.keras.layers.Dropout(rate=0.1)(x, training=training)\n",
    "    outputs = tf.keras.layers.Dense(out_dim, activation=\"linear\")(x)\n",
    "   # outputs = tf.keras.layers.Add()([outputs, inputs[:, 2:]])\n",
    "\n",
    "    #outputs = tf.keras.layers.Add()([outputs, inputs[:, :out_dim]])\n",
    "    # outputs = tf.keras.layers.Add()([outputs, inputs[:, :out_dim]]) NN4UQ\n",
    "    #    out = keras.layers.Dense(units=3, activation= \"linear\")(added)\n",
    "\n",
    "    model = tf.keras.Model(inputs=inputs, outputs=outputs)\n",
    "    optimizer = optimizers.Adagrad(lr=learning_rate)# amsgrad=True)\n",
    "    model.compile(optimizer=optimizer,\n",
    "                  loss='mean_absolute_error')\n",
    "    return model"
   ]
  },
  {
   "cell_type": "code",
   "execution_count": 33,
   "metadata": {},
   "outputs": [],
   "source": [
    "get_custom_objects().update({'swish': Activation(swish)})"
   ]
  },
  {
   "cell_type": "code",
   "execution_count": 34,
   "metadata": {},
   "outputs": [],
   "source": [
    "X_train, X_test, Y_train, Y_test = train_test_split(Zin, Zout, shuffle=True, train_size=0.8, random_state=42)\n",
    "in_dim = X_train.shape[1]\n",
    "out_dim = Y_train.shape[1]"
   ]
  },
  {
   "cell_type": "code",
   "execution_count": 35,
   "metadata": {},
   "outputs": [
    {
     "name": "stdout",
     "output_type": "stream",
     "text": [
      "Model: \"model_2\"\n",
      "_________________________________________________________________\n",
      "Layer (type)                 Output Shape              Param #   \n",
      "=================================================================\n",
      "input_3 (InputLayer)         [(None, 5)]               0         \n",
      "_________________________________________________________________\n",
      "dense_8 (Dense)              (None, 5)                 30        \n",
      "_________________________________________________________________\n",
      "dense_9 (Dense)              (None, 5)                 30        \n",
      "_________________________________________________________________\n",
      "dense_10 (Dense)             (None, 5)                 30        \n",
      "_________________________________________________________________\n",
      "dense_11 (Dense)             (None, 3)                 18        \n",
      "=================================================================\n",
      "Total params: 108\n",
      "Trainable params: 108\n",
      "Non-trainable params: 0\n",
      "_________________________________________________________________\n",
      "Train on 1280 samples, validate on 320 samples\n",
      "Epoch 1/200\n",
      "1280/1280 [==============================] - 0s 225us/sample - loss: 0.0514 - val_loss: 0.0451\n",
      "Epoch 2/200\n",
      "1280/1280 [==============================] - 0s 77us/sample - loss: 0.0455 - val_loss: 0.0418\n",
      "Epoch 3/200\n",
      "1280/1280 [==============================] - 0s 98us/sample - loss: 0.0377 - val_loss: 0.0286\n",
      "Epoch 4/200\n",
      "1280/1280 [==============================] - 0s 72us/sample - loss: 0.0188 - val_loss: 0.0093\n",
      "Epoch 5/200\n",
      "1280/1280 [==============================] - 0s 69us/sample - loss: 0.0094 - val_loss: 0.0088\n",
      "Epoch 6/200\n",
      "1280/1280 [==============================] - 0s 70us/sample - loss: 0.0074 - val_loss: 0.0064\n",
      "Epoch 7/200\n",
      "1280/1280 [==============================] - 0s 80us/sample - loss: 0.0069 - val_loss: 0.0080\n",
      "Epoch 8/200\n",
      "1280/1280 [==============================] - 0s 79us/sample - loss: 0.0062 - val_loss: 0.0046\n",
      "Epoch 9/200\n",
      "1280/1280 [==============================] - 0s 82us/sample - loss: 0.0055 - val_loss: 0.0069\n",
      "Epoch 10/200\n",
      "1280/1280 [==============================] - 0s 88us/sample - loss: 0.0051 - val_loss: 0.0041\n",
      "Epoch 11/200\n",
      "1280/1280 [==============================] - 0s 70us/sample - loss: 0.0049 - val_loss: 0.0045\n",
      "Epoch 12/200\n",
      "1280/1280 [==============================] - 0s 72us/sample - loss: 0.0048 - val_loss: 0.0041\n",
      "Epoch 13/200\n",
      "1280/1280 [==============================] - 0s 74us/sample - loss: 0.0045 - val_loss: 0.0037\n",
      "Epoch 14/200\n",
      "1280/1280 [==============================] - 0s 68us/sample - loss: 0.0044 - val_loss: 0.0032\n",
      "Epoch 15/200\n",
      "1280/1280 [==============================] - 0s 80us/sample - loss: 0.0042 - val_loss: 0.0032\n",
      "Epoch 16/200\n",
      "1280/1280 [==============================] - 0s 79us/sample - loss: 0.0042 - val_loss: 0.0040\n",
      "Epoch 17/200\n",
      "1280/1280 [==============================] - 0s 76us/sample - loss: 0.0040 - val_loss: 0.0047\n",
      "Epoch 18/200\n",
      "1280/1280 [==============================] - 0s 75us/sample - loss: 0.0038 - val_loss: 0.0034\n",
      "Epoch 19/200\n",
      "1280/1280 [==============================] - 0s 71us/sample - loss: 0.0038 - val_loss: 0.0039\n",
      "Epoch 20/200\n",
      "1280/1280 [==============================] - 0s 70us/sample - loss: 0.0039 - val_loss: 0.0028\n",
      "Epoch 21/200\n",
      "1280/1280 [==============================] - 0s 72us/sample - loss: 0.0035 - val_loss: 0.0031\n",
      "Epoch 22/200\n",
      "1280/1280 [==============================] - 0s 74us/sample - loss: 0.0036 - val_loss: 0.0037\n",
      "Epoch 23/200\n",
      "1280/1280 [==============================] - 0s 81us/sample - loss: 0.0035 - val_loss: 0.0031\n",
      "Epoch 24/200\n",
      "1280/1280 [==============================] - 0s 80us/sample - loss: 0.0033 - val_loss: 0.0038\n",
      "Epoch 25/200\n",
      "1280/1280 [==============================] - 0s 78us/sample - loss: 0.0033 - val_loss: 0.0032\n",
      "Epoch 26/200\n",
      "1280/1280 [==============================] - 0s 71us/sample - loss: 0.0033 - val_loss: 0.0036\n",
      "Epoch 27/200\n",
      "1280/1280 [==============================] - 0s 72us/sample - loss: 0.0032 - val_loss: 0.0032\n",
      "Epoch 28/200\n",
      "1280/1280 [==============================] - 0s 72us/sample - loss: 0.0031 - val_loss: 0.0041\n",
      "Epoch 29/200\n",
      "1280/1280 [==============================] - 0s 69us/sample - loss: 0.0031 - val_loss: 0.0032\n",
      "Epoch 30/200\n",
      "1280/1280 [==============================] - 0s 69us/sample - loss: 0.0031 - val_loss: 0.0027\n",
      "Epoch 31/200\n",
      "1280/1280 [==============================] - 0s 70us/sample - loss: 0.0030 - val_loss: 0.0031\n",
      "Epoch 32/200\n",
      "1280/1280 [==============================] - 0s 70us/sample - loss: 0.0029 - val_loss: 0.0028\n",
      "Epoch 33/200\n",
      "1280/1280 [==============================] - 0s 75us/sample - loss: 0.0029 - val_loss: 0.0026\n",
      "Epoch 34/200\n",
      "1280/1280 [==============================] - 0s 83us/sample - loss: 0.0028 - val_loss: 0.0027\n",
      "Epoch 35/200\n",
      "1280/1280 [==============================] - 0s 85us/sample - loss: 0.0029 - val_loss: 0.0023\n",
      "Epoch 36/200\n",
      "1280/1280 [==============================] - 0s 95us/sample - loss: 0.0028 - val_loss: 0.0026\n",
      "Epoch 37/200\n",
      "1280/1280 [==============================] - 0s 97us/sample - loss: 0.0027 - val_loss: 0.0028\n",
      "Epoch 38/200\n",
      "1280/1280 [==============================] - 0s 88us/sample - loss: 0.0027 - val_loss: 0.0027\n",
      "Epoch 39/200\n",
      "1280/1280 [==============================] - 0s 100us/sample - loss: 0.0027 - val_loss: 0.0024\n",
      "Epoch 40/200\n",
      "1280/1280 [==============================] - 0s 80us/sample - loss: 0.0025 - val_loss: 0.0023\n",
      "Epoch 41/200\n",
      "1280/1280 [==============================] - 0s 81us/sample - loss: 0.0025 - val_loss: 0.0020\n",
      "Epoch 42/200\n",
      "1280/1280 [==============================] - 0s 81us/sample - loss: 0.0026 - val_loss: 0.0021\n",
      "Epoch 43/200\n",
      "1280/1280 [==============================] - 0s 79us/sample - loss: 0.0026 - val_loss: 0.0022\n",
      "Epoch 44/200\n",
      "1280/1280 [==============================] - 0s 79us/sample - loss: 0.0025 - val_loss: 0.0022\n",
      "Epoch 45/200\n",
      "1280/1280 [==============================] - 0s 74us/sample - loss: 0.0025 - val_loss: 0.0022\n",
      "Epoch 46/200\n",
      "1280/1280 [==============================] - 0s 71us/sample - loss: 0.0024 - val_loss: 0.0025\n",
      "Epoch 47/200\n",
      "1280/1280 [==============================] - 0s 80us/sample - loss: 0.0024 - val_loss: 0.0020\n",
      "Epoch 48/200\n",
      "1280/1280 [==============================] - 0s 78us/sample - loss: 0.0023 - val_loss: 0.0029\n",
      "Epoch 49/200\n",
      "1280/1280 [==============================] - 0s 77us/sample - loss: 0.0023 - val_loss: 0.0025\n",
      "Epoch 50/200\n",
      "1280/1280 [==============================] - 0s 72us/sample - loss: 0.0024 - val_loss: 0.0019\n",
      "Epoch 51/200\n",
      "1280/1280 [==============================] - 0s 81us/sample - loss: 0.0023 - val_loss: 0.0022\n",
      "Epoch 52/200\n",
      "1280/1280 [==============================] - 0s 80us/sample - loss: 0.0022 - val_loss: 0.0019\n",
      "Epoch 53/200\n",
      "1280/1280 [==============================] - 0s 80us/sample - loss: 0.0022 - val_loss: 0.0023\n",
      "Epoch 54/200\n",
      "1280/1280 [==============================] - 0s 81us/sample - loss: 0.0022 - val_loss: 0.0018\n",
      "Epoch 55/200\n",
      "1280/1280 [==============================] - 0s 77us/sample - loss: 0.0022 - val_loss: 0.0024\n",
      "Epoch 56/200\n",
      "1280/1280 [==============================] - 0s 81us/sample - loss: 0.0022 - val_loss: 0.0027\n",
      "Epoch 57/200\n",
      "1280/1280 [==============================] - 0s 80us/sample - loss: 0.0022 - val_loss: 0.0025\n",
      "Epoch 58/200\n",
      "1280/1280 [==============================] - 0s 80us/sample - loss: 0.0021 - val_loss: 0.0017\n",
      "Epoch 59/200\n",
      "1280/1280 [==============================] - 0s 75us/sample - loss: 0.0021 - val_loss: 0.0017\n",
      "Epoch 60/200\n",
      "1280/1280 [==============================] - 0s 71us/sample - loss: 0.0021 - val_loss: 0.0018\n",
      "Epoch 61/200\n",
      "1280/1280 [==============================] - 0s 74us/sample - loss: 0.0021 - val_loss: 0.0017\n",
      "Epoch 62/200\n",
      "1280/1280 [==============================] - 0s 70us/sample - loss: 0.0020 - val_loss: 0.0024\n",
      "Epoch 63/200\n",
      "1280/1280 [==============================] - 0s 80us/sample - loss: 0.0020 - val_loss: 0.0016\n",
      "Epoch 64/200\n",
      "1280/1280 [==============================] - 0s 78us/sample - loss: 0.0020 - val_loss: 0.0019\n",
      "Epoch 65/200\n",
      "1280/1280 [==============================] - 0s 72us/sample - loss: 0.0020 - val_loss: 0.0022\n",
      "Epoch 66/200\n",
      "1280/1280 [==============================] - 0s 79us/sample - loss: 0.0019 - val_loss: 0.0017\n",
      "Epoch 67/200\n",
      "1280/1280 [==============================] - 0s 82us/sample - loss: 0.0020 - val_loss: 0.0019\n"
     ]
    },
    {
     "name": "stdout",
     "output_type": "stream",
     "text": [
      "Epoch 68/200\n",
      "1280/1280 [==============================] - 0s 76us/sample - loss: 0.0020 - val_loss: 0.0023\n",
      "Epoch 69/200\n",
      "1280/1280 [==============================] - 0s 70us/sample - loss: 0.0019 - val_loss: 0.0018\n",
      "Epoch 70/200\n",
      "1280/1280 [==============================] - 0s 74us/sample - loss: 0.0019 - val_loss: 0.0024\n",
      "Epoch 71/200\n",
      "1280/1280 [==============================] - 0s 75us/sample - loss: 0.0018 - val_loss: 0.0017\n",
      "Epoch 72/200\n",
      "1280/1280 [==============================] - 0s 78us/sample - loss: 0.0019 - val_loss: 0.0015\n",
      "Epoch 73/200\n",
      "1280/1280 [==============================] - 0s 81us/sample - loss: 0.0019 - val_loss: 0.0015\n",
      "Epoch 74/200\n",
      "1280/1280 [==============================] - 0s 78us/sample - loss: 0.0019 - val_loss: 0.0026\n",
      "Epoch 75/200\n",
      "1280/1280 [==============================] - 0s 77us/sample - loss: 0.0019 - val_loss: 0.0014\n",
      "Epoch 76/200\n",
      "1280/1280 [==============================] - 0s 81us/sample - loss: 0.0018 - val_loss: 0.0021\n",
      "Epoch 77/200\n",
      "1280/1280 [==============================] - 0s 82us/sample - loss: 0.0018 - val_loss: 0.0019\n",
      "Epoch 78/200\n",
      "1280/1280 [==============================] - 0s 86us/sample - loss: 0.0018 - val_loss: 0.0019\n",
      "Epoch 79/200\n",
      "1280/1280 [==============================] - 0s 96us/sample - loss: 0.0017 - val_loss: 0.0016\n",
      "Epoch 80/200\n",
      "1280/1280 [==============================] - 0s 84us/sample - loss: 0.0018 - val_loss: 0.0014\n",
      "Epoch 81/200\n",
      "1280/1280 [==============================] - ETA: 0s - loss: 0.001 - 0s 72us/sample - loss: 0.0017 - val_loss: 0.0016\n",
      "Epoch 82/200\n",
      "1280/1280 [==============================] - 0s 71us/sample - loss: 0.0018 - val_loss: 0.0019\n",
      "Epoch 83/200\n",
      "1280/1280 [==============================] - 0s 71us/sample - loss: 0.0017 - val_loss: 0.0016\n",
      "Epoch 84/200\n",
      "1280/1280 [==============================] - 0s 71us/sample - loss: 0.0017 - val_loss: 0.0016\n",
      "Epoch 85/200\n",
      "1280/1280 [==============================] - 0s 71us/sample - loss: 0.0018 - val_loss: 0.0017\n",
      "Epoch 86/200\n",
      "1280/1280 [==============================] - 0s 84us/sample - loss: 0.0017 - val_loss: 0.0014\n",
      "Epoch 87/200\n",
      "1280/1280 [==============================] - 0s 89us/sample - loss: 0.0017 - val_loss: 0.0017\n",
      "Epoch 88/200\n",
      "1280/1280 [==============================] - 0s 91us/sample - loss: 0.0017 - val_loss: 0.0021\n",
      "Epoch 89/200\n",
      "1280/1280 [==============================] - 0s 89us/sample - loss: 0.0017 - val_loss: 0.0020\n",
      "Epoch 90/200\n",
      "1280/1280 [==============================] - 0s 91us/sample - loss: 0.0017 - val_loss: 0.0017\n",
      "Epoch 91/200\n",
      "1280/1280 [==============================] - 0s 90us/sample - loss: 0.0016 - val_loss: 0.0019\n",
      "Epoch 92/200\n",
      "1280/1280 [==============================] - 0s 83us/sample - loss: 0.0016 - val_loss: 0.0021\n",
      "Epoch 93/200\n",
      "1280/1280 [==============================] - 0s 81us/sample - loss: 0.0016 - val_loss: 0.0015\n",
      "Epoch 94/200\n",
      "1280/1280 [==============================] - 0s 85us/sample - loss: 0.0016 - val_loss: 0.0016\n",
      "Epoch 95/200\n",
      "1280/1280 [==============================] - 0s 83us/sample - loss: 0.0016 - val_loss: 0.0019\n",
      "Epoch 96/200\n",
      "1280/1280 [==============================] - 0s 80us/sample - loss: 0.0016 - val_loss: 0.0013\n",
      "Epoch 97/200\n",
      "1280/1280 [==============================] - 0s 82us/sample - loss: 0.0016 - val_loss: 0.0017\n",
      "Epoch 98/200\n",
      "1280/1280 [==============================] - 0s 85us/sample - loss: 0.0016 - val_loss: 0.0019\n",
      "Epoch 99/200\n",
      "1280/1280 [==============================] - 0s 85us/sample - loss: 0.0016 - val_loss: 0.0013\n",
      "Epoch 100/200\n",
      "1280/1280 [==============================] - 0s 84us/sample - loss: 0.0016 - val_loss: 0.0020\n",
      "Epoch 101/200\n",
      "1280/1280 [==============================] - 0s 84us/sample - loss: 0.0016 - val_loss: 0.0013\n",
      "Epoch 102/200\n",
      "1280/1280 [==============================] - 0s 119us/sample - loss: 0.0016 - val_loss: 0.0013\n",
      "Epoch 103/200\n",
      "1280/1280 [==============================] - 0s 106us/sample - loss: 0.0016 - val_loss: 0.0014\n",
      "Epoch 104/200\n",
      "1280/1280 [==============================] - 0s 108us/sample - loss: 0.0016 - val_loss: 0.0017\n",
      "Epoch 105/200\n",
      "1280/1280 [==============================] - 0s 82us/sample - loss: 0.0016 - val_loss: 0.0022\n",
      "Epoch 106/200\n",
      "1280/1280 [==============================] - 0s 80us/sample - loss: 0.0015 - val_loss: 0.0012\n",
      "Epoch 107/200\n",
      "1280/1280 [==============================] - 0s 71us/sample - loss: 0.0016 - val_loss: 0.0013\n",
      "Epoch 108/200\n",
      "1280/1280 [==============================] - 0s 78us/sample - loss: 0.0015 - val_loss: 0.0015\n",
      "Epoch 109/200\n",
      "1280/1280 [==============================] - 0s 70us/sample - loss: 0.0015 - val_loss: 0.0013\n",
      "Epoch 110/200\n",
      "1280/1280 [==============================] - 0s 70us/sample - loss: 0.0015 - val_loss: 0.0012\n",
      "Epoch 111/200\n",
      "1280/1280 [==============================] - 0s 77us/sample - loss: 0.0015 - val_loss: 0.0015\n",
      "Epoch 112/200\n",
      "1280/1280 [==============================] - 0s 69us/sample - loss: 0.0015 - val_loss: 0.0013\n",
      "Epoch 113/200\n",
      "1280/1280 [==============================] - 0s 71us/sample - loss: 0.0015 - val_loss: 0.0014\n",
      "Epoch 114/200\n",
      "1280/1280 [==============================] - 0s 77us/sample - loss: 0.0015 - val_loss: 0.0012\n",
      "Epoch 115/200\n",
      "1280/1280 [==============================] - 0s 71us/sample - loss: 0.0015 - val_loss: 0.0016\n",
      "Epoch 116/200\n",
      "1280/1280 [==============================] - 0s 78us/sample - loss: 0.0015 - val_loss: 0.0019\n",
      "Epoch 117/200\n",
      "1280/1280 [==============================] - 0s 80us/sample - loss: 0.0015 - val_loss: 0.0012\n",
      "Epoch 118/200\n",
      "1280/1280 [==============================] - 0s 93us/sample - loss: 0.0015 - val_loss: 0.0014\n",
      "Epoch 119/200\n",
      "1280/1280 [==============================] - 0s 103us/sample - loss: 0.0016 - val_loss: 0.0014\n",
      "Epoch 120/200\n",
      "1280/1280 [==============================] - 0s 80us/sample - loss: 0.0014 - val_loss: 0.0017\n",
      "Epoch 121/200\n",
      "1280/1280 [==============================] - 0s 85us/sample - loss: 0.0015 - val_loss: 0.0013\n",
      "Epoch 122/200\n",
      "1280/1280 [==============================] - 0s 84us/sample - loss: 0.0015 - val_loss: 0.0012\n",
      "Epoch 123/200\n",
      "1280/1280 [==============================] - 0s 84us/sample - loss: 0.0015 - val_loss: 0.0013\n",
      "Epoch 124/200\n",
      "1280/1280 [==============================] - 0s 81us/sample - loss: 0.0015 - val_loss: 0.0011\n",
      "Epoch 125/200\n",
      "1280/1280 [==============================] - 0s 81us/sample - loss: 0.0015 - val_loss: 0.0013\n",
      "Epoch 126/200\n",
      "1280/1280 [==============================] - 0s 79us/sample - loss: 0.0014 - val_loss: 0.0012\n",
      "Epoch 127/200\n",
      "1280/1280 [==============================] - 0s 81us/sample - loss: 0.0015 - val_loss: 0.0012\n",
      "Epoch 128/200\n",
      "1280/1280 [==============================] - 0s 77us/sample - loss: 0.0015 - val_loss: 0.0012\n",
      "Epoch 129/200\n",
      "1280/1280 [==============================] - 0s 70us/sample - loss: 0.0015 - val_loss: 0.0011\n",
      "Epoch 130/200\n",
      "1280/1280 [==============================] - 0s 71us/sample - loss: 0.0014 - val_loss: 0.0012\n",
      "Epoch 131/200\n",
      "1280/1280 [==============================] - 0s 77us/sample - loss: 0.0015 - val_loss: 0.0015\n",
      "Epoch 132/200\n",
      "1280/1280 [==============================] - 0s 74us/sample - loss: 0.0015 - val_loss: 0.0012\n",
      "Epoch 133/200\n",
      "1280/1280 [==============================] - 0s 88us/sample - loss: 0.0014 - val_loss: 0.0014\n",
      "Epoch 134/200\n",
      "1280/1280 [==============================] - 0s 83us/sample - loss: 0.0015 - val_loss: 0.0013\n",
      "Epoch 135/200\n",
      "1280/1280 [==============================] - 0s 88us/sample - loss: 0.0015 - val_loss: 0.0016\n",
      "Epoch 136/200\n",
      "1280/1280 [==============================] - 0s 82us/sample - loss: 0.0014 - val_loss: 0.0014\n",
      "Epoch 137/200\n",
      "1280/1280 [==============================] - 0s 79us/sample - loss: 0.0014 - val_loss: 0.0013\n",
      "Epoch 138/200\n",
      "1280/1280 [==============================] - 0s 75us/sample - loss: 0.0014 - val_loss: 0.0013\n",
      "Epoch 139/200\n",
      "1280/1280 [==============================] - 0s 71us/sample - loss: 0.0014 - val_loss: 0.0012\n",
      "Epoch 140/200\n",
      "1280/1280 [==============================] - 0s 78us/sample - loss: 0.0014 - val_loss: 0.0011\n",
      "Epoch 141/200\n",
      "1280/1280 [==============================] - 0s 70us/sample - loss: 0.0014 - val_loss: 0.0016\n",
      "Epoch 142/200\n",
      "1280/1280 [==============================] - 0s 73us/sample - loss: 0.0014 - val_loss: 0.0015\n",
      "Epoch 143/200\n",
      "1280/1280 [==============================] - 0s 80us/sample - loss: 0.0014 - val_loss: 0.0011\n"
     ]
    },
    {
     "name": "stdout",
     "output_type": "stream",
     "text": [
      "Epoch 144/200\n",
      "1280/1280 [==============================] - 0s 69us/sample - loss: 0.0014 - val_loss: 0.0012\n",
      "Epoch 145/200\n",
      "1280/1280 [==============================] - 0s 68us/sample - loss: 0.0014 - val_loss: 0.0011\n",
      "Epoch 146/200\n",
      "1280/1280 [==============================] - 0s 78us/sample - loss: 0.0014 - val_loss: 0.0014\n",
      "Epoch 147/200\n",
      "1280/1280 [==============================] - 0s 68us/sample - loss: 0.0014 - val_loss: 0.0010\n",
      "Epoch 148/200\n",
      "1280/1280 [==============================] - 0s 75us/sample - loss: 0.0014 - val_loss: 0.0015\n",
      "Epoch 149/200\n",
      "1280/1280 [==============================] - 0s 71us/sample - loss: 0.0014 - val_loss: 0.0011\n",
      "Epoch 150/200\n",
      "1280/1280 [==============================] - 0s 69us/sample - loss: 0.0014 - val_loss: 0.0011\n",
      "Epoch 151/200\n",
      "1280/1280 [==============================] - 0s 75us/sample - loss: 0.0013 - val_loss: 0.0011\n",
      "Epoch 152/200\n",
      "1280/1280 [==============================] - 0s 68us/sample - loss: 0.0014 - val_loss: 0.0014\n",
      "Epoch 153/200\n",
      "1280/1280 [==============================] - 0s 69us/sample - loss: 0.0014 - val_loss: 0.0014\n",
      "Epoch 154/200\n",
      "1280/1280 [==============================] - 0s 74us/sample - loss: 0.0014 - val_loss: 0.0012\n",
      "Epoch 155/200\n",
      "1280/1280 [==============================] - 0s 70us/sample - loss: 0.0014 - val_loss: 0.0013\n",
      "Epoch 156/200\n",
      "1280/1280 [==============================] - 0s 73us/sample - loss: 0.0014 - val_loss: 0.0015\n",
      "Epoch 157/200\n",
      "1280/1280 [==============================] - 0s 71us/sample - loss: 0.0013 - val_loss: 0.0014\n",
      "Epoch 158/200\n",
      "1280/1280 [==============================] - 0s 71us/sample - loss: 0.0013 - val_loss: 0.0012\n",
      "Epoch 159/200\n",
      "1280/1280 [==============================] - 0s 74us/sample - loss: 0.0013 - val_loss: 0.0013\n",
      "Epoch 160/200\n",
      "1280/1280 [==============================] - 0s 69us/sample - loss: 0.0014 - val_loss: 0.0013\n",
      "Epoch 161/200\n",
      "1280/1280 [==============================] - 0s 71us/sample - loss: 0.0013 - val_loss: 0.0010\n",
      "Epoch 162/200\n",
      "1280/1280 [==============================] - 0s 76us/sample - loss: 0.0013 - val_loss: 0.0012\n",
      "Epoch 163/200\n",
      "1280/1280 [==============================] - 0s 68us/sample - loss: 0.0013 - val_loss: 0.0017\n",
      "Epoch 164/200\n",
      "1280/1280 [==============================] - 0s 81us/sample - loss: 0.0013 - val_loss: 0.0013\n",
      "Epoch 165/200\n",
      "1280/1280 [==============================] - 0s 69us/sample - loss: 0.0013 - val_loss: 0.0012\n",
      "Epoch 166/200\n",
      "1280/1280 [==============================] - 0s 75us/sample - loss: 0.0013 - val_loss: 0.0010\n",
      "Epoch 167/200\n",
      "1280/1280 [==============================] - 0s 72us/sample - loss: 0.0013 - val_loss: 0.0011\n",
      "Epoch 168/200\n",
      "1280/1280 [==============================] - 0s 70us/sample - loss: 0.0013 - val_loss: 0.0015\n",
      "Epoch 169/200\n",
      "1280/1280 [==============================] - 0s 82us/sample - loss: 0.0013 - val_loss: 0.0013\n",
      "Epoch 170/200\n",
      "1280/1280 [==============================] - 0s 82us/sample - loss: 0.0013 - val_loss: 0.0011\n",
      "Epoch 171/200\n",
      "1280/1280 [==============================] - 0s 70us/sample - loss: 0.0013 - val_loss: 0.0017\n",
      "Epoch 172/200\n",
      "1280/1280 [==============================] - 0s 86us/sample - loss: 0.0013 - val_loss: 0.0014\n",
      "Epoch 173/200\n",
      "1280/1280 [==============================] - 0s 72us/sample - loss: 0.0013 - val_loss: 0.0013\n",
      "Epoch 174/200\n",
      "1280/1280 [==============================] - 0s 70us/sample - loss: 0.0013 - val_loss: 0.0013\n",
      "Epoch 175/200\n",
      "1280/1280 [==============================] - 0s 74us/sample - loss: 0.0013 - val_loss: 0.0013\n",
      "Epoch 176/200\n",
      "1280/1280 [==============================] - 0s 69us/sample - loss: 0.0013 - val_loss: 0.0014\n",
      "Epoch 177/200\n",
      "1280/1280 [==============================] - 0s 68us/sample - loss: 0.0013 - val_loss: 0.0014\n",
      "Epoch 178/200\n",
      "1280/1280 [==============================] - 0s 76us/sample - loss: 0.0012 - val_loss: 0.0012\n",
      "Epoch 179/200\n",
      "1280/1280 [==============================] - 0s 70us/sample - loss: 0.0013 - val_loss: 0.0013\n",
      "Epoch 180/200\n",
      "1280/1280 [==============================] - 0s 74us/sample - loss: 0.0013 - val_loss: 0.0012\n",
      "Epoch 181/200\n",
      "1280/1280 [==============================] - 0s 72us/sample - loss: 0.0013 - val_loss: 0.0014\n",
      "Epoch 182/200\n",
      "1280/1280 [==============================] - 0s 68us/sample - loss: 0.0012 - val_loss: 0.0011\n",
      "Epoch 183/200\n",
      "1280/1280 [==============================] - 0s 81us/sample - loss: 0.0013 - val_loss: 0.0012\n",
      "Epoch 184/200\n",
      "1280/1280 [==============================] - 0s 67us/sample - loss: 0.0013 - val_loss: 0.0012\n",
      "Epoch 185/200\n",
      "1280/1280 [==============================] - 0s 70us/sample - loss: 0.0013 - val_loss: 0.0010\n",
      "Epoch 186/200\n",
      "1280/1280 [==============================] - 0s 71us/sample - loss: 0.0013 - val_loss: 0.0011\n",
      "Epoch 187/200\n",
      "1280/1280 [==============================] - 0s 67us/sample - loss: 0.0012 - val_loss: 0.0010\n",
      "Epoch 188/200\n",
      "1280/1280 [==============================] - 0s 67us/sample - loss: 0.0012 - val_loss: 9.5795e-04\n",
      "Epoch 189/200\n",
      "1280/1280 [==============================] - 0s 73us/sample - loss: 0.0013 - val_loss: 0.0014\n",
      "Epoch 190/200\n",
      "1280/1280 [==============================] - 0s 70us/sample - loss: 0.0013 - val_loss: 0.0011\n",
      "Epoch 191/200\n",
      "1280/1280 [==============================] - 0s 79us/sample - loss: 0.0012 - val_loss: 0.0010\n",
      "Epoch 192/200\n",
      "1280/1280 [==============================] - 0s 70us/sample - loss: 0.0013 - val_loss: 0.0010\n",
      "Epoch 193/200\n",
      "1280/1280 [==============================] - 0s 70us/sample - loss: 0.0013 - val_loss: 0.0013\n",
      "Epoch 194/200\n",
      "1280/1280 [==============================] - 0s 78us/sample - loss: 0.0013 - val_loss: 0.0015\n",
      "Epoch 195/200\n",
      "1280/1280 [==============================] - 0s 68us/sample - loss: 0.0012 - val_loss: 0.0012\n",
      "Epoch 196/200\n",
      "1280/1280 [==============================] - 0s 73us/sample - loss: 0.0013 - val_loss: 9.4973e-04\n",
      "Epoch 197/200\n",
      "1280/1280 [==============================] - 0s 74us/sample - loss: 0.0013 - val_loss: 0.0013\n",
      "Epoch 198/200\n",
      "1280/1280 [==============================] - 0s 69us/sample - loss: 0.0012 - val_loss: 9.5041e-04\n",
      "Epoch 199/200\n",
      "1280/1280 [==============================] - 0s 76us/sample - loss: 0.0012 - val_loss: 0.0011\n",
      "Epoch 200/200\n",
      "1280/1280 [==============================] - 0s 70us/sample - loss: 0.0012 - val_loss: 0.0012\n"
     ]
    }
   ],
   "source": [
    "learning_rate=0.05#gp_result.x[0]\n",
    "num_layers = 3 #gp_result.x[1]\n",
    "num_nodes = 5 #gp_result.x[2]\n",
    "batch_size=10 #gp_result.x[3]\n",
    "epochs=200\n",
    "activation='swish'\n",
    "DropModel = get_model_layers(nodes=num_nodes, layers=num_layers,\n",
    "                             activation=activation, learning_rate=learning_rate,\n",
    "                             training=True)  # True-activates dropout during prediction\n",
    "DropModel.summary()\n",
    "DropModel.fit(X_train, Y_train,\n",
    "              batch_size=batch_size,\n",
    "              epochs=epochs,\n",
    "              verbose=1,\n",
    "              validation_data = (X_test, Y_test))\n",
    "\n",
    "DetModel = get_model_layers(nodes=num_nodes, layers=num_layers,\n",
    "                            activation=activation, learning_rate=learning_rate)\n",
    "#name = '{}_{}_{}_{}'.format(num_nodes, num_layers, activation, learning_rate)\n",
    "#DropModel.save(root + 'results/nc/' + name)\n",
    "DetModel.set_weights(DropModel.get_weights())\n",
    "score = DetModel.evaluate(X_test, Y_test, verbose=0)"
   ]
  },
  {
   "cell_type": "code",
   "execution_count": 39,
   "metadata": {},
   "outputs": [],
   "source": [
    "weights = DropModel.get_weights() # returs a numpy list of weights"
   ]
  },
  {
   "cell_type": "code",
   "execution_count": 40,
   "metadata": {
    "scrolled": true
   },
   "outputs": [
    {
     "name": "stderr",
     "output_type": "stream",
     "text": [
      "/Users/gmakr/opt/anaconda3/envs/research/lib/python3.7/site-packages/ipykernel_launcher.py:1: VisibleDeprecationWarning: Creating an ndarray from ragged nested sequences (which is a list-or-tuple of lists-or-tuples-or ndarrays with different lengths or shapes) is deprecated. If you meant to do this, you must specify 'dtype=object' when creating the ndarray\n",
      "  \"\"\"Entry point for launching an IPython kernel.\n"
     ]
    }
   ],
   "source": [
    "Wmat = np.array(weights)"
   ]
  },
  {
   "cell_type": "code",
   "execution_count": 41,
   "metadata": {
    "scrolled": false
   },
   "outputs": [
    {
     "data": {
      "text/plain": [
       "array([array([[ 0.0540182 , -0.22426239, -0.21128078,  0.17198083,  0.69992465],\n",
       "       [-0.2890429 , -0.15379326, -0.30570132,  0.32041022,  0.11724483],\n",
       "       [-0.64209586,  1.1316199 , -1.0313386 , -1.1422344 ,  0.49717587],\n",
       "       [-0.49146357,  0.6660653 ,  0.30010462, -0.19761059, -0.59852964],\n",
       "       [ 0.05770618,  0.03716956,  0.5813193 , -0.378852  ,  0.3586881 ]],\n",
       "      dtype=float32),\n",
       "       array([ 0.14158288, -0.06963691, -0.02404975,  0.04431865, -0.04889023],\n",
       "      dtype=float32),\n",
       "       array([[-0.63315594, -0.44350305,  0.11886229, -0.65862876, -0.5878999 ],\n",
       "       [ 0.31246722, -0.36899263, -0.24641709,  0.64415586,  0.81268775],\n",
       "       [ 0.18332578, -0.74409664,  0.28998616, -0.25908226,  0.3551644 ],\n",
       "       [-0.7368128 , -0.64183253,  0.5338752 , -0.4943763 ,  0.20632228],\n",
       "       [-0.13778208,  0.5321643 ,  0.17719038, -0.50505537,  0.4386702 ]],\n",
       "      dtype=float32),\n",
       "       array([-0.01964559,  0.07024211,  0.00408798,  0.03033691, -0.01767153],\n",
       "      dtype=float32),\n",
       "       array([[ 0.30257708,  0.5987447 , -0.16479391,  0.3167228 , -0.62804574],\n",
       "       [ 0.7639358 , -0.05720997,  0.743893  ,  0.49769118, -0.4621651 ],\n",
       "       [-0.52066827,  0.1995941 , -0.6573331 , -0.2555536 , -0.35986716],\n",
       "       [ 0.6264852 ,  0.1858212 , -0.49630526,  0.07120586,  0.03398416],\n",
       "       [ 0.23054397,  0.65778565, -0.44690964, -0.7905766 ,  0.01478404]],\n",
       "      dtype=float32),\n",
       "       array([ 0.05750318, -0.02784394, -0.05488778, -0.04712847,  0.03644825],\n",
       "      dtype=float32),\n",
       "       array([[ 1.3593372 ,  0.37368676, -0.11137901],\n",
       "       [ 0.65766007, -0.27278006,  0.20793438],\n",
       "       [ 0.6280746 ,  0.0471994 , -0.00608252],\n",
       "       [ 0.1070862 ,  0.50901854,  0.1874525 ],\n",
       "       [-0.5097067 ,  0.22375773, -0.39685252]], dtype=float32),\n",
       "       array([ 0.02622578, -0.01777438,  0.02057108], dtype=float32)],\n",
       "      dtype=object)"
      ]
     },
     "execution_count": 41,
     "metadata": {},
     "output_type": "execute_result"
    }
   ],
   "source": [
    "Wmat"
   ]
  },
  {
   "cell_type": "code",
   "execution_count": 13,
   "metadata": {},
   "outputs": [],
   "source": [
    "import pickle as pkl\n",
    "fileObject = open(\"weights_initialization.npy\", 'wb')\n",
    "pkl.dump(Wmat, fileObject)\n",
    "fileObject.close()\n",
    "\n",
    "#file = open(\"weights_init.npy\", \"wb\")\n",
    "#np.save(file, Wmat)\n",
    "#file.close"
   ]
  },
  {
   "cell_type": "code",
   "execution_count": 14,
   "metadata": {},
   "outputs": [],
   "source": [
    "def predictive_model_resnet(zk,Wmat): \n",
    "    #Assuming you can pass extra arguments to the function for casadi, otherwsise\n",
    "    #Number of hidden layers and nodes are given once when we get the optimal resnet\n",
    "    #The Bayesian Optimization Loop will be changing \n",
    "    n_hidden_layers = 3\n",
    "    n_nodes = 5\n",
    "    model_input = zk.reshape(1,5)\n",
    "    Wmat_shape = Wmat.shape[0]\n",
    "    \n",
    "    #Initialize from input \n",
    "    sum0 = np.matmul(zk,Wmat[0]) #Matrix multiplication weights*inputs\n",
    "    sumbias0 = sum0 + Wmat[1] #Add bias to construct y = sum(wi*xi) + b\n",
    "    #neuron_out = swish_eval(sum1bias)\n",
    "    neuron_out = sumbias0/(1+np.exp(-sumbias0)) #explicitly writing swish activation, out = fact(y)\n",
    "    #They are vector quantitites so you might need to change stuff a bit with symbolic vars\n",
    "    print(neuron_out.shape)\n",
    "\n",
    "    #Forward prediction in hidden layers\n",
    "    for k in range(n_hidden_layers-1):\n",
    "        sum0 = np.matmul(neuron_out,Wmat[2*k+2])\n",
    "        sumbias0 = sum0 + Wmat[2*k+3]\n",
    "        neuron_out = sumbias0/(1+np.exp(-sumbias0)) #explicitly writing swish activation\n",
    "\n",
    "    #Final output layer with linear activation\n",
    "    sum0 = np.matmul(neuron_out,Wmat[Wmat_shape-2])\n",
    "    sumbias0 = sum0 + Wmat[Wmat_shape-1]\n",
    "    neuron_out = sumbias0  #linear activation\n",
    "\n",
    "    return neuron_out #+ model_input[0,2:5]\n",
    "\n",
    "def plantDynamics(matlabEngine, xAll, z):\n",
    "    # Define the parameters whose scope is limited to this function\n",
    "    p1 = 82.3\n",
    "    p2 = 0.5\n",
    "    p3 = 0.9\n",
    "    \n",
    "    # Convert np arrays to list and then to matlab.double\n",
    "    xMatlab = matlab.double(xAll.tolist())\n",
    "    zMatlab = [matlab.double([z[0,0]]), matlab.double([z[0,1]])]\n",
    "    \n",
    "    # Call the BCR_Discrete function and convert it to np.array since it is matlab type intially\n",
    "    xNext = np.array(matlabEngine.BCR_Discrete(xMatlab, zMatlab[0], zMatlab[1], p1, p2, p3))\n",
    "    \n",
    "    return xNext"
   ]
  },
  {
   "cell_type": "code",
   "execution_count": 15,
   "metadata": {},
   "outputs": [],
   "source": [
    "zk=Zin[0,:].reshape(1,5)"
   ]
  },
  {
   "cell_type": "code",
   "execution_count": 16,
   "metadata": {
    "scrolled": true
   },
   "outputs": [
    {
     "name": "stdout",
     "output_type": "stream",
     "text": [
      "(1, 5)\n"
     ]
    }
   ],
   "source": [
    "zkplusone  = predictive_model_resnet(zk,Wmat)"
   ]
  },
  {
   "cell_type": "code",
   "execution_count": 17,
   "metadata": {},
   "outputs": [
    {
     "data": {
      "text/plain": [
       "0.041132586755882355"
      ]
     },
     "execution_count": 17,
     "metadata": {},
     "output_type": "execute_result"
    }
   ],
   "source": [
    "zk[0,0]"
   ]
  },
  {
   "cell_type": "code",
   "execution_count": 18,
   "metadata": {},
   "outputs": [
    {
     "name": "stdout",
     "output_type": "stream",
     "text": [
      "Current State: [[0.04113259 0.48376889 0.1        0.01       0.01      ]] Future State [[0.10214564 0.01493383 0.00859389]]\n"
     ]
    }
   ],
   "source": [
    "print('Current State:', zk,'Future State', zkplusone)"
   ]
  },
  {
   "cell_type": "code",
   "execution_count": 19,
   "metadata": {},
   "outputs": [],
   "source": [
    "initial_cond_plant =scipy.io.loadmat('init_cond.mat')"
   ]
  },
  {
   "cell_type": "code",
   "execution_count": 20,
   "metadata": {},
   "outputs": [],
   "source": [
    "xo = initial_cond_plant.get(\"yo\")"
   ]
  },
  {
   "cell_type": "code",
   "execution_count": 21,
   "metadata": {},
   "outputs": [
    {
     "data": {
      "text/plain": [
       "(1, 87)"
      ]
     },
     "execution_count": 21,
     "metadata": {},
     "output_type": "execute_result"
    }
   ],
   "source": [
    "xo.shape"
   ]
  },
  {
   "cell_type": "code",
   "execution_count": 22,
   "metadata": {},
   "outputs": [],
   "source": [
    "x0 = xo[0,-3:]"
   ]
  },
  {
   "cell_type": "markdown",
   "metadata": {},
   "source": [
    "For BCR_Discrete you must convert the states array to a list like below and then put it into matlab.double; \\\n",
    "Same for matlab.double for the scalars \\\n",
    "The other, fixed parameters are ok like that"
   ]
  },
  {
   "cell_type": "code",
   "execution_count": 23,
   "metadata": {},
   "outputs": [
    {
     "name": "stdout",
     "output_type": "stream",
     "text": [
      "[0.0997541  0.01959978 0.01200781]\n"
     ]
    }
   ],
   "source": [
    "zkplusone_plant = eng.BCR_Discrete(matlab.double(xo.tolist()),matlab.double([zk[0,0]]),matlab.double([zk[0,1]]),82.3,1.0,0.9)\n",
    "zkfuture_plant = np.array(zkplusone_plant)\n",
    "print(zkfuture_plant[0,-3:]) #Getting the last states"
   ]
  },
  {
   "cell_type": "code",
   "execution_count": 24,
   "metadata": {},
   "outputs": [
    {
     "name": "stdout",
     "output_type": "stream",
     "text": [
      "[0.09995733 0.01499571 0.01103071]\n"
     ]
    }
   ],
   "source": [
    "zz = plantDynamics(eng, xo, zk)\n",
    "print(zz[0,-3:])"
   ]
  },
  {
   "cell_type": "code",
   "execution_count": 25,
   "metadata": {},
   "outputs": [
    {
     "name": "stdout",
     "output_type": "stream",
     "text": [
      "(5,)\n"
     ]
    }
   ],
   "source": [
    "zkfuture_plant  = predictive_model_resnet(np.array([zk[0,0],zk[0,1],x0[0],x0[1],x0[2]]),Wmat)"
   ]
  },
  {
   "cell_type": "code",
   "execution_count": 26,
   "metadata": {},
   "outputs": [
    {
     "name": "stdout",
     "output_type": "stream",
     "text": [
      "[[0.04113259 0.48376889 0.1        0.01       0.01      ]]\n",
      "[0.10214564 0.01493383 0.00859389]\n"
     ]
    }
   ],
   "source": [
    "print(zk)\n",
    "print(zkfuture_plant)"
   ]
  },
  {
   "cell_type": "markdown",
   "metadata": {},
   "source": [
    "One of the issues here with the zkfuture_plant"
   ]
  },
  {
   "cell_type": "markdown",
   "metadata": {},
   "source": [
    "When you are at the initial condition, or acetate and ethanol are very low, usually you will predict negative concentrations for acetate and ethanol. In other words, you will predict x[1], and x[2] <0 which is unphysical. In this case you can make the prediction equal to zero (because otherwise you might not get feasible solutions)"
   ]
  },
  {
   "cell_type": "markdown",
   "metadata": {},
   "source": [
    "#Objective Function\n",
    "Area = 0.002436;   % reactor cross-sectional area, m^2 \\\n",
    "L = 1.06;   % reactor length, m  \\\n",
    "Qmedia[j] = Area \\times L \\times Dk[j]  (Dk is u[0], i.e., dilution rate) \\\n",
    "Try to maximize sum (Qmedia[j]*x1[j] ) (m3/h * mmol/m^3)  \\\n",
    "Constraints:\n",
    "Selectivity is defined as Ce/Ca or x2/x1 and I want it to be x2/x1 < 0.45 \\\n",
    "u[0] in (0.01, 0.25) \\\n",
    "u[1] in (0.0, 0.9) \\ \n",
    "x0,x1,x2 > 0 \n"
   ]
  },
  {
   "cell_type": "code",
   "execution_count": null,
   "metadata": {},
   "outputs": [],
   "source": []
  },
  {
   "cell_type": "code",
   "execution_count": null,
   "metadata": {},
   "outputs": [],
   "source": []
  }
 ],
 "metadata": {
  "kernelspec": {
   "display_name": "Python 3",
   "language": "python",
   "name": "python3"
  },
  "language_info": {
   "codemirror_mode": {
    "name": "ipython",
    "version": 3
   },
   "file_extension": ".py",
   "mimetype": "text/x-python",
   "name": "python",
   "nbconvert_exporter": "python",
   "pygments_lexer": "ipython3",
   "version": "3.7.9"
  }
 },
 "nbformat": 4,
 "nbformat_minor": 4
}
